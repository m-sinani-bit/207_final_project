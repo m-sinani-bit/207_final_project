{
 "cells": [
  {
   "cell_type": "code",
   "execution_count": 1,
   "id": "ee895936",
   "metadata": {
    "execution": {
     "iopub.execute_input": "2024-04-04T20:38:29.719475Z",
     "iopub.status.busy": "2024-04-04T20:38:29.719207Z",
     "iopub.status.idle": "2024-04-04T20:38:47.314846Z",
     "shell.execute_reply": "2024-04-04T20:38:47.313879Z"
    },
    "papermill": {
     "duration": 17.606024,
     "end_time": "2024-04-04T20:38:47.317288",
     "exception": false,
     "start_time": "2024-04-04T20:38:29.711264",
     "status": "completed"
    },
    "scrolled": true,
    "tags": []
   },
   "outputs": [
    {
     "name": "stderr",
     "output_type": "stream",
     "text": [
      "2024-04-04 20:38:35.081495: E external/local_xla/xla/stream_executor/cuda/cuda_dnn.cc:9261] Unable to register cuDNN factory: Attempting to register factory for plugin cuDNN when one has already been registered\n",
      "2024-04-04 20:38:35.081591: E external/local_xla/xla/stream_executor/cuda/cuda_fft.cc:607] Unable to register cuFFT factory: Attempting to register factory for plugin cuFFT when one has already been registered\n",
      "2024-04-04 20:38:35.206106: E external/local_xla/xla/stream_executor/cuda/cuda_blas.cc:1515] Unable to register cuBLAS factory: Attempting to register factory for plugin cuBLAS when one has already been registered\n"
     ]
    }
   ],
   "source": [
    "import os\n",
    "os.environ[\"KERAS_BACKEND\"] = \"tensorflow\" # you can also use tensorflow or torch\n",
    "\n",
    "import keras_cv\n",
    "import keras\n",
    "from keras import ops\n",
    "import tensorflow as tf\n",
    "\n",
    "import cv2\n",
    "import pandas as pd\n",
    "import numpy as np\n",
    "from glob import glob\n",
    "from tqdm.notebook import tqdm\n",
    "import joblib\n",
    "\n",
    "import matplotlib.pyplot as plt "
   ]
  },
  {
   "cell_type": "code",
   "execution_count": 2,
   "id": "9c5d85bc",
   "metadata": {
    "execution": {
     "iopub.execute_input": "2024-04-04T20:38:47.332307Z",
     "iopub.status.busy": "2024-04-04T20:38:47.331802Z",
     "iopub.status.idle": "2024-04-04T20:38:47.336879Z",
     "shell.execute_reply": "2024-04-04T20:38:47.336023Z"
    },
    "papermill": {
     "duration": 0.01477,
     "end_time": "2024-04-04T20:38:47.339028",
     "exception": false,
     "start_time": "2024-04-04T20:38:47.324258",
     "status": "completed"
    },
    "tags": []
   },
   "outputs": [
    {
     "name": "stdout",
     "output_type": "stream",
     "text": [
      "TensorFlow: 2.15.0\n",
      "Keras: 3.0.5\n",
      "KerasCV: 0.8.2\n"
     ]
    }
   ],
   "source": [
    "print(\"TensorFlow:\", tf.__version__)\n",
    "print(\"Keras:\", keras.__version__)\n",
    "print(\"KerasCV:\", keras_cv.__version__)"
   ]
  },
  {
   "cell_type": "code",
   "execution_count": 3,
   "id": "33e4f2d6",
   "metadata": {
    "execution": {
     "iopub.execute_input": "2024-04-04T20:38:47.353056Z",
     "iopub.status.busy": "2024-04-04T20:38:47.352790Z",
     "iopub.status.idle": "2024-04-04T20:38:47.358327Z",
     "shell.execute_reply": "2024-04-04T20:38:47.357503Z"
    },
    "papermill": {
     "duration": 0.014801,
     "end_time": "2024-04-04T20:38:47.360261",
     "exception": false,
     "start_time": "2024-04-04T20:38:47.345460",
     "status": "completed"
    },
    "tags": []
   },
   "outputs": [],
   "source": [
    "class CFG:\n",
    "    verbose = 1  # Verbosity\n",
    "    seed = 42  # Random seed\n",
    "    preset = \"efficientnetv2_b2_imagenet\"  # Name of pretrained classifier\n",
    "    image_size = [400, 300]  # Input image size\n",
    "    epochs = 13 # Training epochs\n",
    "    batch_size = 64  # Batch size\n",
    "    lr_mode = \"cos\" # LR scheduler mode from one of \"cos\", \"step\", \"exp\"\n",
    "    drop_remainder = True  # Drop incomplete batches\n",
    "    num_classes = 1 # Number of classes in the dataset\n",
    "    fold = 0 # Which fold to set as validation data\n",
    "    class_names = ['Seizure']\n",
    "    label2name = dict(enumerate(class_names))\n",
    "    name2label = {v:k for k, v in label2name.items()}"
   ]
  },
  {
   "cell_type": "code",
   "execution_count": 4,
   "id": "339a5bde",
   "metadata": {
    "execution": {
     "iopub.execute_input": "2024-04-04T20:38:47.374585Z",
     "iopub.status.busy": "2024-04-04T20:38:47.374147Z",
     "iopub.status.idle": "2024-04-04T20:38:47.378234Z",
     "shell.execute_reply": "2024-04-04T20:38:47.377409Z"
    },
    "papermill": {
     "duration": 0.013553,
     "end_time": "2024-04-04T20:38:47.380306",
     "exception": false,
     "start_time": "2024-04-04T20:38:47.366753",
     "status": "completed"
    },
    "tags": []
   },
   "outputs": [],
   "source": [
    "keras.utils.set_random_seed(CFG.seed)"
   ]
  },
  {
   "cell_type": "markdown",
   "id": "30a2300f",
   "metadata": {
    "papermill": {
     "duration": 0.006307,
     "end_time": "2024-04-04T20:38:47.393003",
     "exception": false,
     "start_time": "2024-04-04T20:38:47.386696",
     "status": "completed"
    },
    "tags": []
   },
   "source": [
    "## Load in data"
   ]
  },
  {
   "cell_type": "code",
   "execution_count": 5,
   "id": "832cca33",
   "metadata": {
    "execution": {
     "iopub.execute_input": "2024-04-04T20:38:47.406959Z",
     "iopub.status.busy": "2024-04-04T20:38:47.406697Z",
     "iopub.status.idle": "2024-04-04T20:38:47.411542Z",
     "shell.execute_reply": "2024-04-04T20:38:47.410859Z"
    },
    "papermill": {
     "duration": 0.013792,
     "end_time": "2024-04-04T20:38:47.413346",
     "exception": false,
     "start_time": "2024-04-04T20:38:47.399554",
     "status": "completed"
    },
    "tags": []
   },
   "outputs": [],
   "source": [
    "BASE_PATH = \"/kaggle/input/hms-harmful-brain-activity-classification\"\n",
    "\n",
    "SPEC_DIR = \"/tmp/dataset/hms-hbac\"\n",
    "os.makedirs(SPEC_DIR+'/train_spectrograms', exist_ok=True)\n",
    "os.makedirs(SPEC_DIR+'/test_spectrograms', exist_ok=True)"
   ]
  },
  {
   "cell_type": "code",
   "execution_count": 6,
   "id": "3fd4dd87",
   "metadata": {
    "execution": {
     "iopub.execute_input": "2024-04-04T20:38:47.427334Z",
     "iopub.status.busy": "2024-04-04T20:38:47.427097Z",
     "iopub.status.idle": "2024-04-04T20:38:47.977835Z",
     "shell.execute_reply": "2024-04-04T20:38:47.976963Z"
    },
    "papermill": {
     "duration": 0.559915,
     "end_time": "2024-04-04T20:38:47.979879",
     "exception": false,
     "start_time": "2024-04-04T20:38:47.419964",
     "status": "completed"
    },
    "tags": []
   },
   "outputs": [
    {
     "data": {
      "text/html": [
       "<div>\n",
       "<style scoped>\n",
       "    .dataframe tbody tr th:only-of-type {\n",
       "        vertical-align: middle;\n",
       "    }\n",
       "\n",
       "    .dataframe tbody tr th {\n",
       "        vertical-align: top;\n",
       "    }\n",
       "\n",
       "    .dataframe thead th {\n",
       "        text-align: right;\n",
       "    }\n",
       "</style>\n",
       "<table border=\"1\" class=\"dataframe\">\n",
       "  <thead>\n",
       "    <tr style=\"text-align: right;\">\n",
       "      <th></th>\n",
       "      <th>eeg_id</th>\n",
       "      <th>eeg_sub_id</th>\n",
       "      <th>eeg_label_offset_seconds</th>\n",
       "      <th>spectrogram_id</th>\n",
       "      <th>spectrogram_sub_id</th>\n",
       "      <th>spectrogram_label_offset_seconds</th>\n",
       "      <th>label_id</th>\n",
       "      <th>patient_id</th>\n",
       "      <th>expert_consensus</th>\n",
       "      <th>seizure_vote</th>\n",
       "      <th>lpd_vote</th>\n",
       "      <th>gpd_vote</th>\n",
       "      <th>lrda_vote</th>\n",
       "      <th>grda_vote</th>\n",
       "      <th>other_vote</th>\n",
       "      <th>eeg_path</th>\n",
       "      <th>spec_path</th>\n",
       "      <th>spec2_path</th>\n",
       "      <th>class_name</th>\n",
       "      <th>class_label</th>\n",
       "    </tr>\n",
       "  </thead>\n",
       "  <tbody>\n",
       "    <tr>\n",
       "      <th>0</th>\n",
       "      <td>1628180742</td>\n",
       "      <td>0</td>\n",
       "      <td>0.0</td>\n",
       "      <td>353733</td>\n",
       "      <td>0</td>\n",
       "      <td>0.0</td>\n",
       "      <td>127492639</td>\n",
       "      <td>42516</td>\n",
       "      <td>Seizure</td>\n",
       "      <td>3</td>\n",
       "      <td>0</td>\n",
       "      <td>0</td>\n",
       "      <td>0</td>\n",
       "      <td>0</td>\n",
       "      <td>0</td>\n",
       "      <td>/kaggle/input/hms-harmful-brain-activity-class...</td>\n",
       "      <td>/kaggle/input/hms-harmful-brain-activity-class...</td>\n",
       "      <td>/tmp/dataset/hms-hbac/train_spectrograms/35373...</td>\n",
       "      <td>Seizure</td>\n",
       "      <td>0.0</td>\n",
       "    </tr>\n",
       "    <tr>\n",
       "      <th>1</th>\n",
       "      <td>1628180742</td>\n",
       "      <td>1</td>\n",
       "      <td>6.0</td>\n",
       "      <td>353733</td>\n",
       "      <td>1</td>\n",
       "      <td>6.0</td>\n",
       "      <td>3887563113</td>\n",
       "      <td>42516</td>\n",
       "      <td>Seizure</td>\n",
       "      <td>3</td>\n",
       "      <td>0</td>\n",
       "      <td>0</td>\n",
       "      <td>0</td>\n",
       "      <td>0</td>\n",
       "      <td>0</td>\n",
       "      <td>/kaggle/input/hms-harmful-brain-activity-class...</td>\n",
       "      <td>/kaggle/input/hms-harmful-brain-activity-class...</td>\n",
       "      <td>/tmp/dataset/hms-hbac/train_spectrograms/35373...</td>\n",
       "      <td>Seizure</td>\n",
       "      <td>0.0</td>\n",
       "    </tr>\n",
       "  </tbody>\n",
       "</table>\n",
       "</div>"
      ],
      "text/plain": [
       "       eeg_id  eeg_sub_id  eeg_label_offset_seconds  spectrogram_id  \\\n",
       "0  1628180742           0                       0.0          353733   \n",
       "1  1628180742           1                       6.0          353733   \n",
       "\n",
       "   spectrogram_sub_id  spectrogram_label_offset_seconds    label_id  \\\n",
       "0                   0                               0.0   127492639   \n",
       "1                   1                               6.0  3887563113   \n",
       "\n",
       "   patient_id expert_consensus  seizure_vote  lpd_vote  gpd_vote  lrda_vote  \\\n",
       "0       42516          Seizure             3         0         0          0   \n",
       "1       42516          Seizure             3         0         0          0   \n",
       "\n",
       "   grda_vote  other_vote                                           eeg_path  \\\n",
       "0          0           0  /kaggle/input/hms-harmful-brain-activity-class...   \n",
       "1          0           0  /kaggle/input/hms-harmful-brain-activity-class...   \n",
       "\n",
       "                                           spec_path  \\\n",
       "0  /kaggle/input/hms-harmful-brain-activity-class...   \n",
       "1  /kaggle/input/hms-harmful-brain-activity-class...   \n",
       "\n",
       "                                          spec2_path class_name  class_label  \n",
       "0  /tmp/dataset/hms-hbac/train_spectrograms/35373...    Seizure          0.0  \n",
       "1  /tmp/dataset/hms-hbac/train_spectrograms/35373...    Seizure          0.0  "
      ]
     },
     "metadata": {},
     "output_type": "display_data"
    },
    {
     "data": {
      "text/html": [
       "<div>\n",
       "<style scoped>\n",
       "    .dataframe tbody tr th:only-of-type {\n",
       "        vertical-align: middle;\n",
       "    }\n",
       "\n",
       "    .dataframe tbody tr th {\n",
       "        vertical-align: top;\n",
       "    }\n",
       "\n",
       "    .dataframe thead th {\n",
       "        text-align: right;\n",
       "    }\n",
       "</style>\n",
       "<table border=\"1\" class=\"dataframe\">\n",
       "  <thead>\n",
       "    <tr style=\"text-align: right;\">\n",
       "      <th></th>\n",
       "      <th>spectrogram_id</th>\n",
       "      <th>eeg_id</th>\n",
       "      <th>patient_id</th>\n",
       "      <th>eeg_path</th>\n",
       "      <th>spec_path</th>\n",
       "      <th>spec2_path</th>\n",
       "    </tr>\n",
       "  </thead>\n",
       "  <tbody>\n",
       "    <tr>\n",
       "      <th>0</th>\n",
       "      <td>853520</td>\n",
       "      <td>3911565283</td>\n",
       "      <td>6885</td>\n",
       "      <td>/kaggle/input/hms-harmful-brain-activity-class...</td>\n",
       "      <td>/kaggle/input/hms-harmful-brain-activity-class...</td>\n",
       "      <td>/tmp/dataset/hms-hbac/test_spectrograms/853520...</td>\n",
       "    </tr>\n",
       "  </tbody>\n",
       "</table>\n",
       "</div>"
      ],
      "text/plain": [
       "   spectrogram_id      eeg_id  patient_id  \\\n",
       "0          853520  3911565283        6885   \n",
       "\n",
       "                                            eeg_path  \\\n",
       "0  /kaggle/input/hms-harmful-brain-activity-class...   \n",
       "\n",
       "                                           spec_path  \\\n",
       "0  /kaggle/input/hms-harmful-brain-activity-class...   \n",
       "\n",
       "                                          spec2_path  \n",
       "0  /tmp/dataset/hms-hbac/test_spectrograms/853520...  "
      ]
     },
     "metadata": {},
     "output_type": "display_data"
    }
   ],
   "source": [
    "# Train + Valid\n",
    "df = pd.read_csv(f'{BASE_PATH}/train.csv')\n",
    "df['eeg_path'] = f'{BASE_PATH}/train_eegs/'+df['eeg_id'].astype(str)+'.parquet'\n",
    "df['spec_path'] = f'{BASE_PATH}/train_spectrograms/'+df['spectrogram_id'].astype(str)+'.parquet'\n",
    "df['spec2_path'] = f'{SPEC_DIR}/train_spectrograms/'+df['spectrogram_id'].astype(str)+'.npy'\n",
    "df['class_name'] = df.expert_consensus.copy()\n",
    "df['class_label'] = df.expert_consensus.map(CFG.name2label)\n",
    "display(df.head(2))\n",
    "\n",
    "# Test\n",
    "test_df = pd.read_csv(f'{BASE_PATH}/test.csv')\n",
    "test_df['eeg_path'] = f'{BASE_PATH}/test_eegs/'+test_df['eeg_id'].astype(str)+'.parquet'\n",
    "test_df['spec_path'] = f'{BASE_PATH}/test_spectrograms/'+test_df['spectrogram_id'].astype(str)+'.parquet'\n",
    "test_df['spec2_path'] = f'{SPEC_DIR}/test_spectrograms/'+test_df['spectrogram_id'].astype(str)+'.npy'\n",
    "display(test_df.head(2))"
   ]
  },
  {
   "cell_type": "markdown",
   "id": "60f98e5a",
   "metadata": {
    "papermill": {
     "duration": 0.007812,
     "end_time": "2024-04-04T20:38:47.994823",
     "exception": false,
     "start_time": "2024-04-04T20:38:47.987011",
     "status": "completed"
    },
    "tags": []
   },
   "source": [
    "## Set binary class label"
   ]
  },
  {
   "cell_type": "code",
   "execution_count": 7,
   "id": "22070c55",
   "metadata": {
    "execution": {
     "iopub.execute_input": "2024-04-04T20:38:48.009717Z",
     "iopub.status.busy": "2024-04-04T20:38:48.009383Z",
     "iopub.status.idle": "2024-04-04T20:38:48.030527Z",
     "shell.execute_reply": "2024-04-04T20:38:48.029816Z"
    },
    "papermill": {
     "duration": 0.030702,
     "end_time": "2024-04-04T20:38:48.032324",
     "exception": false,
     "start_time": "2024-04-04T20:38:48.001622",
     "status": "completed"
    },
    "tags": []
   },
   "outputs": [],
   "source": [
    "df['seizure_binary'] = np.where(df.expert_consensus == 'Seizure',1,0)"
   ]
  },
  {
   "cell_type": "code",
   "execution_count": 8,
   "id": "96d18986",
   "metadata": {
    "execution": {
     "iopub.execute_input": "2024-04-04T20:38:48.047523Z",
     "iopub.status.busy": "2024-04-04T20:38:48.047239Z",
     "iopub.status.idle": "2024-04-04T20:38:48.059082Z",
     "shell.execute_reply": "2024-04-04T20:38:48.058182Z"
    },
    "papermill": {
     "duration": 0.021589,
     "end_time": "2024-04-04T20:38:48.061096",
     "exception": false,
     "start_time": "2024-04-04T20:38:48.039507",
     "status": "completed"
    },
    "tags": []
   },
   "outputs": [
    {
     "data": {
      "text/plain": [
       "seizure_binary\n",
       "0    85867\n",
       "1    20933\n",
       "Name: count, dtype: int64"
      ]
     },
     "execution_count": 8,
     "metadata": {},
     "output_type": "execute_result"
    }
   ],
   "source": [
    "df.seizure_binary.value_counts()"
   ]
  },
  {
   "cell_type": "markdown",
   "id": "ea99aba3",
   "metadata": {
    "papermill": {
     "duration": 0.007169,
     "end_time": "2024-04-04T20:38:48.075246",
     "exception": false,
     "start_time": "2024-04-04T20:38:48.068077",
     "status": "completed"
    },
    "tags": []
   },
   "source": [
    "## Create cross val splits"
   ]
  },
  {
   "cell_type": "code",
   "execution_count": 9,
   "id": "d370035b",
   "metadata": {
    "execution": {
     "iopub.execute_input": "2024-04-04T20:38:48.090245Z",
     "iopub.status.busy": "2024-04-04T20:38:48.089988Z",
     "iopub.status.idle": "2024-04-04T20:38:49.964115Z",
     "shell.execute_reply": "2024-04-04T20:38:49.963255Z"
    },
    "papermill": {
     "duration": 1.883912,
     "end_time": "2024-04-04T20:38:49.966117",
     "exception": false,
     "start_time": "2024-04-04T20:38:48.082205",
     "status": "completed"
    },
    "tags": []
   },
   "outputs": [
    {
     "data": {
      "text/html": [
       "<div>\n",
       "<style scoped>\n",
       "    .dataframe tbody tr th:only-of-type {\n",
       "        vertical-align: middle;\n",
       "    }\n",
       "\n",
       "    .dataframe tbody tr th {\n",
       "        vertical-align: top;\n",
       "    }\n",
       "\n",
       "    .dataframe thead tr th {\n",
       "        text-align: left;\n",
       "    }\n",
       "</style>\n",
       "<table border=\"1\" class=\"dataframe\">\n",
       "  <thead>\n",
       "    <tr>\n",
       "      <th>fold</th>\n",
       "      <th colspan=\"6\" halign=\"left\">0</th>\n",
       "      <th colspan=\"4\" halign=\"left\">1</th>\n",
       "      <th>...</th>\n",
       "      <th colspan=\"4\" halign=\"left\">3</th>\n",
       "      <th colspan=\"6\" halign=\"left\">4</th>\n",
       "    </tr>\n",
       "    <tr>\n",
       "      <th>class_name</th>\n",
       "      <th>GPD</th>\n",
       "      <th>GRDA</th>\n",
       "      <th>LPD</th>\n",
       "      <th>LRDA</th>\n",
       "      <th>Other</th>\n",
       "      <th>Seizure</th>\n",
       "      <th>GPD</th>\n",
       "      <th>GRDA</th>\n",
       "      <th>LPD</th>\n",
       "      <th>LRDA</th>\n",
       "      <th>...</th>\n",
       "      <th>LPD</th>\n",
       "      <th>LRDA</th>\n",
       "      <th>Other</th>\n",
       "      <th>Seizure</th>\n",
       "      <th>GPD</th>\n",
       "      <th>GRDA</th>\n",
       "      <th>LPD</th>\n",
       "      <th>LRDA</th>\n",
       "      <th>Other</th>\n",
       "      <th>Seizure</th>\n",
       "    </tr>\n",
       "  </thead>\n",
       "  <tbody>\n",
       "    <tr>\n",
       "      <th>eeg_id</th>\n",
       "      <td>2705</td>\n",
       "      <td>2824</td>\n",
       "      <td>2901</td>\n",
       "      <td>3715</td>\n",
       "      <td>3987</td>\n",
       "      <td>3897</td>\n",
       "      <td>3249</td>\n",
       "      <td>4401</td>\n",
       "      <td>1178</td>\n",
       "      <td>4189</td>\n",
       "      <td>...</td>\n",
       "      <td>1765</td>\n",
       "      <td>2317</td>\n",
       "      <td>3314</td>\n",
       "      <td>3470</td>\n",
       "      <td>2201</td>\n",
       "      <td>3258</td>\n",
       "      <td>5484</td>\n",
       "      <td>3117</td>\n",
       "      <td>3756</td>\n",
       "      <td>4295</td>\n",
       "    </tr>\n",
       "  </tbody>\n",
       "</table>\n",
       "<p>1 rows × 30 columns</p>\n",
       "</div>"
      ],
      "text/plain": [
       "fold           0                                     1                    ...  \\\n",
       "class_name   GPD  GRDA   LPD  LRDA Other Seizure   GPD  GRDA   LPD  LRDA  ...   \n",
       "eeg_id      2705  2824  2901  3715  3987    3897  3249  4401  1178  4189  ...   \n",
       "\n",
       "fold           3                         4                                  \n",
       "class_name   LPD  LRDA Other Seizure   GPD  GRDA   LPD  LRDA Other Seizure  \n",
       "eeg_id      1765  2317  3314    3470  2201  3258  5484  3117  3756    4295  \n",
       "\n",
       "[1 rows x 30 columns]"
      ]
     },
     "execution_count": 9,
     "metadata": {},
     "output_type": "execute_result"
    }
   ],
   "source": [
    "from sklearn.model_selection import StratifiedGroupKFold\n",
    "\n",
    "sgkf = StratifiedGroupKFold(n_splits=5, shuffle=True, random_state=CFG.seed)\n",
    "\n",
    "df[\"fold\"] = -1\n",
    "df.reset_index(drop=True, inplace=True)\n",
    "for fold, (train_idx, valid_idx) in enumerate(\n",
    "    sgkf.split(df, y=df[\"seizure_binary\"], groups=df[\"patient_id\"])\n",
    "):\n",
    "    df.loc[valid_idx, \"fold\"] = fold\n",
    "df.groupby([\"fold\", \"class_name\"])[[\"eeg_id\"]].count().T"
   ]
  },
  {
   "cell_type": "markdown",
   "id": "e595a328",
   "metadata": {
    "papermill": {
     "duration": 0.007826,
     "end_time": "2024-04-04T20:38:49.981715",
     "exception": false,
     "start_time": "2024-04-04T20:38:49.973889",
     "status": "completed"
    },
    "tags": []
   },
   "source": [
    "## Data processing"
   ]
  },
  {
   "cell_type": "code",
   "execution_count": 10,
   "id": "5cb636a9",
   "metadata": {
    "execution": {
     "iopub.execute_input": "2024-04-04T20:38:49.998184Z",
     "iopub.status.busy": "2024-04-04T20:38:49.997456Z",
     "iopub.status.idle": "2024-04-04T20:41:47.693265Z",
     "shell.execute_reply": "2024-04-04T20:41:47.692438Z"
    },
    "papermill": {
     "duration": 177.706341,
     "end_time": "2024-04-04T20:41:47.695363",
     "exception": false,
     "start_time": "2024-04-04T20:38:49.989022",
     "status": "completed"
    },
    "tags": []
   },
   "outputs": [
    {
     "data": {
      "application/vnd.jupyter.widget-view+json": {
       "model_id": "80541724f5da49cd879e38f67d55bcf9",
       "version_major": 2,
       "version_minor": 0
      },
      "text/plain": [
       "  0%|          | 0/11138 [00:00<?, ?it/s]"
      ]
     },
     "metadata": {},
     "output_type": "display_data"
    },
    {
     "data": {
      "application/vnd.jupyter.widget-view+json": {
       "model_id": "3f13d08062824818a26070b753043e45",
       "version_major": 2,
       "version_minor": 0
      },
      "text/plain": [
       "  0%|          | 0/1 [00:00<?, ?it/s]"
      ]
     },
     "metadata": {},
     "output_type": "display_data"
    }
   ],
   "source": [
    "# Define a function to process a single eeg_id\n",
    "def process_spec(spec_id, split=\"train\"):\n",
    "    spec_path = f\"{BASE_PATH}/{split}_spectrograms/{spec_id}.parquet\"\n",
    "    spec = pd.read_parquet(spec_path)\n",
    "    spec = spec.fillna(0).values[:, 1:].T # fill NaN values with 0, transpose for (Time, Freq) -> (Freq, Time)\n",
    "    spec = spec.astype(\"float32\")\n",
    "    np.save(f\"{SPEC_DIR}/{split}_spectrograms/{spec_id}.npy\", spec)\n",
    "\n",
    "# Get unique spec_ids of train and valid data\n",
    "spec_ids = df[\"spectrogram_id\"].unique()\n",
    "\n",
    "# Parallelize the processing using joblib for training data\n",
    "_ = joblib.Parallel(n_jobs=-1, backend=\"loky\")(\n",
    "    joblib.delayed(process_spec)(spec_id, \"train\")\n",
    "    for spec_id in tqdm(spec_ids, total=len(spec_ids))\n",
    ")\n",
    "\n",
    "# Get unique spec_ids of test data\n",
    "test_spec_ids = test_df[\"spectrogram_id\"].unique()\n",
    "\n",
    "# Parallelize the processing using joblib for test data\n",
    "_ = joblib.Parallel(n_jobs=-1, backend=\"loky\")(\n",
    "    joblib.delayed(process_spec)(spec_id, \"test\")\n",
    "    for spec_id in tqdm(test_spec_ids, total=len(test_spec_ids))\n",
    ")"
   ]
  },
  {
   "cell_type": "markdown",
   "id": "839b31b3",
   "metadata": {
    "papermill": {
     "duration": 0.007592,
     "end_time": "2024-04-04T20:41:47.710938",
     "exception": false,
     "start_time": "2024-04-04T20:41:47.703346",
     "status": "completed"
    },
    "tags": []
   },
   "source": [
    "## Create augmenter (not used for now) and build dataset"
   ]
  },
  {
   "cell_type": "code",
   "execution_count": 11,
   "id": "26707997",
   "metadata": {
    "execution": {
     "iopub.execute_input": "2024-04-04T20:41:47.727944Z",
     "iopub.status.busy": "2024-04-04T20:41:47.727625Z",
     "iopub.status.idle": "2024-04-04T20:41:47.747705Z",
     "shell.execute_reply": "2024-04-04T20:41:47.746977Z"
    },
    "papermill": {
     "duration": 0.030807,
     "end_time": "2024-04-04T20:41:47.749545",
     "exception": false,
     "start_time": "2024-04-04T20:41:47.718738",
     "status": "completed"
    },
    "tags": []
   },
   "outputs": [],
   "source": [
    "def build_augmenter(dim=CFG.image_size):\n",
    "    augmenters = [\n",
    "        keras_cv.layers.MixUp(alpha=2.0),\n",
    "        keras_cv.layers.RandomCutout(height_factor=(1.0, 1.0),\n",
    "                                     width_factor=(0.06, 0.1)), # freq-masking\n",
    "        keras_cv.layers.RandomCutout(height_factor=(0.06, 0.1),\n",
    "                                     width_factor=(1.0, 1.0)), # time-masking\n",
    "    ]\n",
    "    \n",
    "    def augment(img, label):\n",
    "        data = {\"images\":img, \"labels\":label}\n",
    "        for augmenter in augmenters:\n",
    "            if tf.random.uniform([]) < 0.5:\n",
    "                data = augmenter(data, training=True)\n",
    "        return data[\"images\"], data[\"labels\"]\n",
    "    \n",
    "    return augment\n",
    "\n",
    "\n",
    "def build_decoder(with_labels=True, target_size=CFG.image_size, dtype=32):\n",
    "    def decode_signal(path, offset=None):\n",
    "        # Read .npy files and process the signal\n",
    "        file_bytes = tf.io.read_file(path)\n",
    "        sig = tf.io.decode_raw(file_bytes, tf.float32)\n",
    "        sig = sig[1024//dtype:]  # Remove header tag\n",
    "        sig = tf.reshape(sig, [400, -1])\n",
    "        \n",
    "        # Extract labeled subsample from full spectrogram using \"offset\"\n",
    "        if offset is not None: \n",
    "            offset = offset // 2  # Only odd values are given\n",
    "            sig = sig[:, offset:offset+300]\n",
    "            \n",
    "            # Pad spectrogram to ensure the same input shape of [400, 300]\n",
    "            pad_size = tf.math.maximum(0, 300 - tf.shape(sig)[1])\n",
    "            sig = tf.pad(sig, [[0, 0], [0, pad_size]])\n",
    "            sig = tf.reshape(sig, [400, 300])\n",
    "        \n",
    "        # Log spectrogram \n",
    "        sig = tf.clip_by_value(sig, tf.math.exp(-4.0), tf.math.exp(8.0)) # avoid 0 in log\n",
    "        sig = tf.math.log(sig)\n",
    "        \n",
    "        # Normalize spectrogram\n",
    "        sig -= tf.math.reduce_mean(sig)\n",
    "        sig /= tf.math.reduce_std(sig) + 1e-6\n",
    "        \n",
    "        # Mono channel to 3 channels to use \"ImageNet\" weights\n",
    "        sig = tf.tile(sig[..., None], [1, 1, 3])\n",
    "        return sig\n",
    "    \n",
    "    def decode_label(label):\n",
    "        label = tf.one_hot(label, CFG.num_classes)\n",
    "        label = tf.cast(label, tf.float32)\n",
    "        label = tf.reshape(label, [CFG.num_classes])\n",
    "        return label\n",
    "    \n",
    "    def decode_with_labels(path, offset=None, label=None):\n",
    "        sig = decode_signal(path, offset)\n",
    "        label = decode_label(label)\n",
    "        return (sig, label)\n",
    "    \n",
    "    return decode_with_labels if with_labels else decode_signal\n",
    "\n",
    "\n",
    "def build_dataset(paths, offsets=None, labels=None, batch_size=32, cache=True,\n",
    "                  decode_fn=None, augment_fn=None,\n",
    "                  augment=False, repeat=True, shuffle=1024, \n",
    "                  cache_dir=\"\", drop_remainder=False):\n",
    "    if cache_dir != \"\" and cache is True:\n",
    "        os.makedirs(cache_dir, exist_ok=True)\n",
    "    \n",
    "    if decode_fn is None:\n",
    "        decode_fn = build_decoder(labels is not None)\n",
    "    \n",
    "    if augment_fn is None:\n",
    "        augment_fn = build_augmenter()\n",
    "    \n",
    "    AUTO = tf.data.experimental.AUTOTUNE\n",
    "    slices = (paths, offsets) if labels is None else (paths, offsets, labels)\n",
    "    \n",
    "    ds = tf.data.Dataset.from_tensor_slices(slices)\n",
    "    ds = ds.map(decode_fn, num_parallel_calls=AUTO)\n",
    "    ds = ds.cache(cache_dir) if cache else ds\n",
    "    ds = ds.repeat() if repeat else ds\n",
    "    if shuffle: \n",
    "        ds = ds.shuffle(shuffle, seed=CFG.seed)\n",
    "        opt = tf.data.Options()\n",
    "        opt.experimental_deterministic = False\n",
    "        ds = ds.with_options(opt)\n",
    "    ds = ds.batch(batch_size, drop_remainder=drop_remainder)\n",
    "    ds = ds.map(augment_fn, num_parallel_calls=AUTO) if augment else ds\n",
    "    ds = ds.prefetch(AUTO)\n",
    "    return ds"
   ]
  },
  {
   "cell_type": "code",
   "execution_count": 12,
   "id": "45b672dc",
   "metadata": {
    "execution": {
     "iopub.execute_input": "2024-04-04T20:41:47.765874Z",
     "iopub.status.busy": "2024-04-04T20:41:47.765588Z",
     "iopub.status.idle": "2024-04-04T20:41:50.934630Z",
     "shell.execute_reply": "2024-04-04T20:41:50.933592Z"
    },
    "papermill": {
     "duration": 3.179691,
     "end_time": "2024-04-04T20:41:50.936941",
     "exception": false,
     "start_time": "2024-04-04T20:41:47.757250",
     "status": "completed"
    },
    "tags": []
   },
   "outputs": [
    {
     "name": "stdout",
     "output_type": "stream",
     "text": [
      "# Num Train: 8950 | Num Valid: 2188\n"
     ]
    }
   ],
   "source": [
    "sample_df = df.groupby(\"spectrogram_id\").head(1).reset_index(drop=True)\n",
    "train_df = sample_df[sample_df.fold != CFG.fold]\n",
    "valid_df = sample_df[sample_df.fold == CFG.fold]\n",
    "print(f\"# Num Train: {len(train_df)} | Num Valid: {len(valid_df)}\")\n",
    "\n",
    "# Train\n",
    "train_paths = train_df.spec2_path.values\n",
    "train_offsets = train_df.spectrogram_label_offset_seconds.values.astype(int)\n",
    "train_labels = train_df.seizure_binary.values\n",
    "train_ds = build_dataset(train_paths, train_offsets, train_labels, batch_size=CFG.batch_size,\n",
    "                         repeat=True, shuffle=True, augment=True, cache=True)\n",
    "\n",
    "# Valid\n",
    "valid_paths = valid_df.spec2_path.values\n",
    "valid_offsets = valid_df.spectrogram_label_offset_seconds.values.astype(int)\n",
    "valid_labels = valid_df.seizure_binary.values\n",
    "valid_ds = build_dataset(valid_paths, valid_offsets, valid_labels, batch_size=CFG.batch_size,\n",
    "                         repeat=False, shuffle=False, augment=False, cache=True)"
   ]
  },
  {
   "cell_type": "markdown",
   "id": "9a100e92",
   "metadata": {
    "papermill": {
     "duration": 0.007576,
     "end_time": "2024-04-04T20:41:50.952660",
     "exception": false,
     "start_time": "2024-04-04T20:41:50.945084",
     "status": "completed"
    },
    "tags": []
   },
   "source": [
    "## Start modelin"
   ]
  },
  {
   "cell_type": "code",
   "execution_count": 13,
   "id": "e20310b8",
   "metadata": {
    "execution": {
     "iopub.execute_input": "2024-04-04T20:41:50.969236Z",
     "iopub.status.busy": "2024-04-04T20:41:50.968950Z",
     "iopub.status.idle": "2024-04-04T20:41:51.131570Z",
     "shell.execute_reply": "2024-04-04T20:41:51.130670Z"
    },
    "papermill": {
     "duration": 0.173477,
     "end_time": "2024-04-04T20:41:51.133758",
     "exception": false,
     "start_time": "2024-04-04T20:41:50.960281",
     "status": "completed"
    },
    "tags": []
   },
   "outputs": [
    {
     "name": "stdout",
     "output_type": "stream",
     "text": [
      "crossval accuracies: [0.8057527927276017, 0.809474182851729, 0.8054321234210395, 0.839789463964172, 0.7602210954273446]\n",
      "mean crossval accuracy: 0.8041339316783773\n"
     ]
    }
   ],
   "source": [
    "#baseline model: predict dominant class\n",
    "accuracies = []\n",
    "for fold in df.fold.unique():\n",
    "    train = df[df.fold != fold]\n",
    "    val = df[df.fold == fold]\n",
    "    if np.mean(train.seizure_binary) >= 0.5:\n",
    "        pred = 1\n",
    "    else:\n",
    "        pred = 0\n",
    "    accuracy = sum(np.where(val.seizure_binary == pred,1,0))/len(val)\n",
    "    accuracies.append(accuracy)\n",
    "print('crossval accuracies:',accuracies)\n",
    "print('mean crossval accuracy:',np.mean(accuracies))"
   ]
  },
  {
   "cell_type": "code",
   "execution_count": 14,
   "id": "7c8aaed9",
   "metadata": {
    "execution": {
     "iopub.execute_input": "2024-04-04T20:41:51.150868Z",
     "iopub.status.busy": "2024-04-04T20:41:51.150356Z",
     "iopub.status.idle": "2024-04-04T20:41:51.154447Z",
     "shell.execute_reply": "2024-04-04T20:41:51.153581Z"
    },
    "papermill": {
     "duration": 0.014392,
     "end_time": "2024-04-04T20:41:51.156197",
     "exception": false,
     "start_time": "2024-04-04T20:41:51.141805",
     "status": "completed"
    },
    "tags": []
   },
   "outputs": [],
   "source": [
    "LOSS = keras.losses.BinaryCrossentropy()"
   ]
  },
  {
   "cell_type": "code",
   "execution_count": 15,
   "id": "ff042c14",
   "metadata": {
    "execution": {
     "iopub.execute_input": "2024-04-04T20:41:51.172722Z",
     "iopub.status.busy": "2024-04-04T20:41:51.172261Z",
     "iopub.status.idle": "2024-04-04T20:41:51.196819Z",
     "shell.execute_reply": "2024-04-04T20:41:51.196005Z"
    },
    "papermill": {
     "duration": 0.034758,
     "end_time": "2024-04-04T20:41:51.198612",
     "exception": false,
     "start_time": "2024-04-04T20:41:51.163854",
     "status": "completed"
    },
    "tags": []
   },
   "outputs": [],
   "source": [
    "#model 2: simple logistic regression\n",
    "tf.keras.backend.clear_session()\n",
    "\n",
    "model = keras.Sequential()\n",
    "\n",
    "model.add(keras.layers.Flatten())\n",
    "\n",
    "model.add(keras.layers.Dense(\n",
    "  units=1,                     \n",
    "  use_bias=True,               \n",
    "  activation=\"sigmoid\"         \n",
    "))\n",
    "\n",
    "optimizer = tf.keras.optimizers.SGD(learning_rate=0.1)\n",
    "\n",
    "model.compile(loss='binary_crossentropy', \n",
    "            optimizer=optimizer, \n",
    "            metrics=[LOSS])"
   ]
  },
  {
   "cell_type": "code",
   "execution_count": 16,
   "id": "044f5710",
   "metadata": {
    "execution": {
     "iopub.execute_input": "2024-04-04T20:41:51.215175Z",
     "iopub.status.busy": "2024-04-04T20:41:51.214922Z",
     "iopub.status.idle": "2024-04-04T20:45:13.795039Z",
     "shell.execute_reply": "2024-04-04T20:45:13.793873Z"
    },
    "papermill": {
     "duration": 202.592411,
     "end_time": "2024-04-04T20:45:13.798828",
     "exception": false,
     "start_time": "2024-04-04T20:41:51.206417",
     "status": "completed"
    },
    "tags": []
   },
   "outputs": [
    {
     "name": "stdout",
     "output_type": "stream",
     "text": [
      "Epoch 1/5\n",
      "\u001b[1m  4/139\u001b[0m \u001b[37m━━━━━━━━━━━━━━━━━━━━\u001b[0m \u001b[1m5s\u001b[0m 40ms/step - binary_crossentropy: 283.8145 - loss: 283.8145"
     ]
    },
    {
     "name": "stderr",
     "output_type": "stream",
     "text": [
      "WARNING: All log messages before absl::InitializeLog() is called are written to STDERR\n",
      "I0000 00:00:1712263313.684385     114 device_compiler.h:186] Compiled cluster using XLA!  This line is logged at most once for the lifetime of the process.\n"
     ]
    },
    {
     "name": "stdout",
     "output_type": "stream",
     "text": [
      "\u001b[1m139/139\u001b[0m \u001b[32m━━━━━━━━━━━━━━━━━━━━\u001b[0m\u001b[37m\u001b[0m \u001b[1m45s\u001b[0m 306ms/step - binary_crossentropy: 895.2463 - loss: 895.2463 - val_binary_crossentropy: 2055.0449 - val_loss: 2055.0449\n",
      "Epoch 2/5\n",
      "\u001b[1m139/139\u001b[0m \u001b[32m━━━━━━━━━━━━━━━━━━━━\u001b[0m\u001b[37m\u001b[0m \u001b[1m28s\u001b[0m 200ms/step - binary_crossentropy: 672.4904 - loss: 672.4904 - val_binary_crossentropy: 1969.1899 - val_loss: 1969.1899\n",
      "Epoch 3/5\n",
      "\u001b[1m139/139\u001b[0m \u001b[32m━━━━━━━━━━━━━━━━━━━━\u001b[0m\u001b[37m\u001b[0m \u001b[1m26s\u001b[0m 187ms/step - binary_crossentropy: 630.3447 - loss: 630.3447 - val_binary_crossentropy: 1151.1393 - val_loss: 1151.1393\n",
      "Epoch 4/5\n",
      "\u001b[1m139/139\u001b[0m \u001b[32m━━━━━━━━━━━━━━━━━━━━\u001b[0m\u001b[37m\u001b[0m \u001b[1m27s\u001b[0m 196ms/step - binary_crossentropy: 606.0134 - loss: 606.0134 - val_binary_crossentropy: 772.1931 - val_loss: 772.1931\n",
      "Epoch 5/5\n",
      "\u001b[1m139/139\u001b[0m \u001b[32m━━━━━━━━━━━━━━━━━━━━\u001b[0m\u001b[37m\u001b[0m \u001b[1m27s\u001b[0m 196ms/step - binary_crossentropy: 557.7986 - loss: 557.7986 - val_binary_crossentropy: 1068.6454 - val_loss: 1068.6454\n"
     ]
    }
   ],
   "source": [
    "history = model.fit(\n",
    "  train_ds, \n",
    "  epochs=5,\n",
    "  steps_per_epoch=len(train_df)//CFG.batch_size,\n",
    "  validation_data=valid_ds, \n",
    "  verbose=CFG.verbose           \n",
    "  )"
   ]
  },
  {
   "cell_type": "code",
   "execution_count": 17,
   "id": "4774380c",
   "metadata": {
    "execution": {
     "iopub.execute_input": "2024-04-04T20:45:13.947077Z",
     "iopub.status.busy": "2024-04-04T20:45:13.946530Z",
     "iopub.status.idle": "2024-04-04T20:45:16.129540Z",
     "shell.execute_reply": "2024-04-04T20:45:16.128423Z"
    },
    "papermill": {
     "duration": 2.268367,
     "end_time": "2024-04-04T20:45:16.131684",
     "exception": false,
     "start_time": "2024-04-04T20:45:13.863317",
     "status": "completed"
    },
    "tags": []
   },
   "outputs": [
    {
     "name": "stdout",
     "output_type": "stream",
     "text": [
      "\u001b[1m35/35\u001b[0m \u001b[32m━━━━━━━━━━━━━━━━━━━━\u001b[0m\u001b[37m\u001b[0m \u001b[1m2s\u001b[0m 54ms/step\n",
      "val accuracy: 0.18510054844606946\n",
      "val f1: 0.29720141899881747\n"
     ]
    }
   ],
   "source": [
    "from sklearn.metrics import accuracy_score,f1_score\n",
    "val_preds = np.rint(model.predict(valid_ds))\n",
    "\n",
    "print('val accuracy:',accuracy_score(valid_labels,val_preds))\n",
    "print('val f1:',f1_score(valid_labels,val_preds))"
   ]
  },
  {
   "cell_type": "code",
   "execution_count": null,
   "id": "9edd92e2",
   "metadata": {
    "papermill": {
     "duration": 0.061242,
     "end_time": "2024-04-04T20:45:16.255923",
     "exception": false,
     "start_time": "2024-04-04T20:45:16.194681",
     "status": "completed"
    },
    "tags": []
   },
   "outputs": [],
   "source": []
  }
 ],
 "metadata": {
  "kaggle": {
   "accelerator": "gpu",
   "dataSources": [
    {
     "databundleVersionId": 7469972,
     "sourceId": 59093,
     "sourceType": "competition"
    }
   ],
   "dockerImageVersionId": 30673,
   "isGpuEnabled": true,
   "isInternetEnabled": true,
   "language": "python",
   "sourceType": "notebook"
  },
  "kernelspec": {
   "display_name": "Python 3",
   "language": "python",
   "name": "python3"
  },
  "language_info": {
   "codemirror_mode": {
    "name": "ipython",
    "version": 3
   },
   "file_extension": ".py",
   "mimetype": "text/x-python",
   "name": "python",
   "nbconvert_exporter": "python",
   "pygments_lexer": "ipython3",
   "version": "3.10.13"
  },
  "papermill": {
   "default_parameters": {},
   "duration": 413.225324,
   "end_time": "2024-04-04T20:45:20.092418",
   "environment_variables": {},
   "exception": null,
   "input_path": "__notebook__.ipynb",
   "output_path": "__notebook__.ipynb",
   "parameters": {},
   "start_time": "2024-04-04T20:38:26.867094",
   "version": "2.5.0"
  },
  "widgets": {
   "application/vnd.jupyter.widget-state+json": {
    "state": {
     "0b444c7dbe784eecbd677fc928263d6b": {
      "model_module": "@jupyter-widgets/controls",
      "model_module_version": "1.5.0",
      "model_name": "ProgressStyleModel",
      "state": {
       "_model_module": "@jupyter-widgets/controls",
       "_model_module_version": "1.5.0",
       "_model_name": "ProgressStyleModel",
       "_view_count": null,
       "_view_module": "@jupyter-widgets/base",
       "_view_module_version": "1.2.0",
       "_view_name": "StyleView",
       "bar_color": null,
       "description_width": ""
      }
     },
     "0bfd2faad521416badbaf82ba958b5e5": {
      "model_module": "@jupyter-widgets/controls",
      "model_module_version": "1.5.0",
      "model_name": "FloatProgressModel",
      "state": {
       "_dom_classes": [],
       "_model_module": "@jupyter-widgets/controls",
       "_model_module_version": "1.5.0",
       "_model_name": "FloatProgressModel",
       "_view_count": null,
       "_view_module": "@jupyter-widgets/controls",
       "_view_module_version": "1.5.0",
       "_view_name": "ProgressView",
       "bar_style": "success",
       "description": "",
       "description_tooltip": null,
       "layout": "IPY_MODEL_14012c2a9d694085a5de7bc18181c8f2",
       "max": 11138.0,
       "min": 0.0,
       "orientation": "horizontal",
       "style": "IPY_MODEL_890d04656def475bbecba04bd08e510a",
       "value": 11138.0
      }
     },
     "14012c2a9d694085a5de7bc18181c8f2": {
      "model_module": "@jupyter-widgets/base",
      "model_module_version": "1.2.0",
      "model_name": "LayoutModel",
      "state": {
       "_model_module": "@jupyter-widgets/base",
       "_model_module_version": "1.2.0",
       "_model_name": "LayoutModel",
       "_view_count": null,
       "_view_module": "@jupyter-widgets/base",
       "_view_module_version": "1.2.0",
       "_view_name": "LayoutView",
       "align_content": null,
       "align_items": null,
       "align_self": null,
       "border": null,
       "bottom": null,
       "display": null,
       "flex": null,
       "flex_flow": null,
       "grid_area": null,
       "grid_auto_columns": null,
       "grid_auto_flow": null,
       "grid_auto_rows": null,
       "grid_column": null,
       "grid_gap": null,
       "grid_row": null,
       "grid_template_areas": null,
       "grid_template_columns": null,
       "grid_template_rows": null,
       "height": null,
       "justify_content": null,
       "justify_items": null,
       "left": null,
       "margin": null,
       "max_height": null,
       "max_width": null,
       "min_height": null,
       "min_width": null,
       "object_fit": null,
       "object_position": null,
       "order": null,
       "overflow": null,
       "overflow_x": null,
       "overflow_y": null,
       "padding": null,
       "right": null,
       "top": null,
       "visibility": null,
       "width": null
      }
     },
     "285830a3fedc46ae9016eaf4d5cbb65b": {
      "model_module": "@jupyter-widgets/base",
      "model_module_version": "1.2.0",
      "model_name": "LayoutModel",
      "state": {
       "_model_module": "@jupyter-widgets/base",
       "_model_module_version": "1.2.0",
       "_model_name": "LayoutModel",
       "_view_count": null,
       "_view_module": "@jupyter-widgets/base",
       "_view_module_version": "1.2.0",
       "_view_name": "LayoutView",
       "align_content": null,
       "align_items": null,
       "align_self": null,
       "border": null,
       "bottom": null,
       "display": null,
       "flex": null,
       "flex_flow": null,
       "grid_area": null,
       "grid_auto_columns": null,
       "grid_auto_flow": null,
       "grid_auto_rows": null,
       "grid_column": null,
       "grid_gap": null,
       "grid_row": null,
       "grid_template_areas": null,
       "grid_template_columns": null,
       "grid_template_rows": null,
       "height": null,
       "justify_content": null,
       "justify_items": null,
       "left": null,
       "margin": null,
       "max_height": null,
       "max_width": null,
       "min_height": null,
       "min_width": null,
       "object_fit": null,
       "object_position": null,
       "order": null,
       "overflow": null,
       "overflow_x": null,
       "overflow_y": null,
       "padding": null,
       "right": null,
       "top": null,
       "visibility": null,
       "width": null
      }
     },
     "2c70b052f3584789a8ada709eab6e971": {
      "model_module": "@jupyter-widgets/controls",
      "model_module_version": "1.5.0",
      "model_name": "HTMLModel",
      "state": {
       "_dom_classes": [],
       "_model_module": "@jupyter-widgets/controls",
       "_model_module_version": "1.5.0",
       "_model_name": "HTMLModel",
       "_view_count": null,
       "_view_module": "@jupyter-widgets/controls",
       "_view_module_version": "1.5.0",
       "_view_name": "HTMLView",
       "description": "",
       "description_tooltip": null,
       "layout": "IPY_MODEL_9d0f882f7bec42d4917e403a75117643",
       "placeholder": "​",
       "style": "IPY_MODEL_5e7b7e33731b4e1ebee10e92e0f6cddd",
       "value": "100%"
      }
     },
     "388eb60040f843df81288df2a20c5047": {
      "model_module": "@jupyter-widgets/controls",
      "model_module_version": "1.5.0",
      "model_name": "HTMLModel",
      "state": {
       "_dom_classes": [],
       "_model_module": "@jupyter-widgets/controls",
       "_model_module_version": "1.5.0",
       "_model_name": "HTMLModel",
       "_view_count": null,
       "_view_module": "@jupyter-widgets/controls",
       "_view_module_version": "1.5.0",
       "_view_name": "HTMLView",
       "description": "",
       "description_tooltip": null,
       "layout": "IPY_MODEL_47af34858c15417393e8666408c12630",
       "placeholder": "​",
       "style": "IPY_MODEL_d6e97d51e00648c2beb5f9731a394b25",
       "value": " 1/1 [00:00&lt;00:00, 76.33it/s]"
      }
     },
     "3f13d08062824818a26070b753043e45": {
      "model_module": "@jupyter-widgets/controls",
      "model_module_version": "1.5.0",
      "model_name": "HBoxModel",
      "state": {
       "_dom_classes": [],
       "_model_module": "@jupyter-widgets/controls",
       "_model_module_version": "1.5.0",
       "_model_name": "HBoxModel",
       "_view_count": null,
       "_view_module": "@jupyter-widgets/controls",
       "_view_module_version": "1.5.0",
       "_view_name": "HBoxView",
       "box_style": "",
       "children": [
        "IPY_MODEL_534029093e614865bd49e92cf36f6783",
        "IPY_MODEL_85d94aa1fd1f49aba6880fd8fdc3b405",
        "IPY_MODEL_388eb60040f843df81288df2a20c5047"
       ],
       "layout": "IPY_MODEL_f7b93335db284a3e9c547ee17fcef09d"
      }
     },
     "47af34858c15417393e8666408c12630": {
      "model_module": "@jupyter-widgets/base",
      "model_module_version": "1.2.0",
      "model_name": "LayoutModel",
      "state": {
       "_model_module": "@jupyter-widgets/base",
       "_model_module_version": "1.2.0",
       "_model_name": "LayoutModel",
       "_view_count": null,
       "_view_module": "@jupyter-widgets/base",
       "_view_module_version": "1.2.0",
       "_view_name": "LayoutView",
       "align_content": null,
       "align_items": null,
       "align_self": null,
       "border": null,
       "bottom": null,
       "display": null,
       "flex": null,
       "flex_flow": null,
       "grid_area": null,
       "grid_auto_columns": null,
       "grid_auto_flow": null,
       "grid_auto_rows": null,
       "grid_column": null,
       "grid_gap": null,
       "grid_row": null,
       "grid_template_areas": null,
       "grid_template_columns": null,
       "grid_template_rows": null,
       "height": null,
       "justify_content": null,
       "justify_items": null,
       "left": null,
       "margin": null,
       "max_height": null,
       "max_width": null,
       "min_height": null,
       "min_width": null,
       "object_fit": null,
       "object_position": null,
       "order": null,
       "overflow": null,
       "overflow_x": null,
       "overflow_y": null,
       "padding": null,
       "right": null,
       "top": null,
       "visibility": null,
       "width": null
      }
     },
     "534029093e614865bd49e92cf36f6783": {
      "model_module": "@jupyter-widgets/controls",
      "model_module_version": "1.5.0",
      "model_name": "HTMLModel",
      "state": {
       "_dom_classes": [],
       "_model_module": "@jupyter-widgets/controls",
       "_model_module_version": "1.5.0",
       "_model_name": "HTMLModel",
       "_view_count": null,
       "_view_module": "@jupyter-widgets/controls",
       "_view_module_version": "1.5.0",
       "_view_name": "HTMLView",
       "description": "",
       "description_tooltip": null,
       "layout": "IPY_MODEL_285830a3fedc46ae9016eaf4d5cbb65b",
       "placeholder": "​",
       "style": "IPY_MODEL_c0230a11b1264c10914d43e92172665c",
       "value": "100%"
      }
     },
     "5e7b7e33731b4e1ebee10e92e0f6cddd": {
      "model_module": "@jupyter-widgets/controls",
      "model_module_version": "1.5.0",
      "model_name": "DescriptionStyleModel",
      "state": {
       "_model_module": "@jupyter-widgets/controls",
       "_model_module_version": "1.5.0",
       "_model_name": "DescriptionStyleModel",
       "_view_count": null,
       "_view_module": "@jupyter-widgets/base",
       "_view_module_version": "1.2.0",
       "_view_name": "StyleView",
       "description_width": ""
      }
     },
     "6658647e3cb04aa1babef0254aab3f59": {
      "model_module": "@jupyter-widgets/controls",
      "model_module_version": "1.5.0",
      "model_name": "DescriptionStyleModel",
      "state": {
       "_model_module": "@jupyter-widgets/controls",
       "_model_module_version": "1.5.0",
       "_model_name": "DescriptionStyleModel",
       "_view_count": null,
       "_view_module": "@jupyter-widgets/base",
       "_view_module_version": "1.2.0",
       "_view_name": "StyleView",
       "description_width": ""
      }
     },
     "7d074a5222fc4311be98aebbfb0498da": {
      "model_module": "@jupyter-widgets/base",
      "model_module_version": "1.2.0",
      "model_name": "LayoutModel",
      "state": {
       "_model_module": "@jupyter-widgets/base",
       "_model_module_version": "1.2.0",
       "_model_name": "LayoutModel",
       "_view_count": null,
       "_view_module": "@jupyter-widgets/base",
       "_view_module_version": "1.2.0",
       "_view_name": "LayoutView",
       "align_content": null,
       "align_items": null,
       "align_self": null,
       "border": null,
       "bottom": null,
       "display": null,
       "flex": null,
       "flex_flow": null,
       "grid_area": null,
       "grid_auto_columns": null,
       "grid_auto_flow": null,
       "grid_auto_rows": null,
       "grid_column": null,
       "grid_gap": null,
       "grid_row": null,
       "grid_template_areas": null,
       "grid_template_columns": null,
       "grid_template_rows": null,
       "height": null,
       "justify_content": null,
       "justify_items": null,
       "left": null,
       "margin": null,
       "max_height": null,
       "max_width": null,
       "min_height": null,
       "min_width": null,
       "object_fit": null,
       "object_position": null,
       "order": null,
       "overflow": null,
       "overflow_x": null,
       "overflow_y": null,
       "padding": null,
       "right": null,
       "top": null,
       "visibility": null,
       "width": null
      }
     },
     "80541724f5da49cd879e38f67d55bcf9": {
      "model_module": "@jupyter-widgets/controls",
      "model_module_version": "1.5.0",
      "model_name": "HBoxModel",
      "state": {
       "_dom_classes": [],
       "_model_module": "@jupyter-widgets/controls",
       "_model_module_version": "1.5.0",
       "_model_name": "HBoxModel",
       "_view_count": null,
       "_view_module": "@jupyter-widgets/controls",
       "_view_module_version": "1.5.0",
       "_view_name": "HBoxView",
       "box_style": "",
       "children": [
        "IPY_MODEL_2c70b052f3584789a8ada709eab6e971",
        "IPY_MODEL_0bfd2faad521416badbaf82ba958b5e5",
        "IPY_MODEL_911b8373a1d14ad88f1fd67330800dc5"
       ],
       "layout": "IPY_MODEL_c56686498f6844f69eefb0af5db266c3"
      }
     },
     "85d94aa1fd1f49aba6880fd8fdc3b405": {
      "model_module": "@jupyter-widgets/controls",
      "model_module_version": "1.5.0",
      "model_name": "FloatProgressModel",
      "state": {
       "_dom_classes": [],
       "_model_module": "@jupyter-widgets/controls",
       "_model_module_version": "1.5.0",
       "_model_name": "FloatProgressModel",
       "_view_count": null,
       "_view_module": "@jupyter-widgets/controls",
       "_view_module_version": "1.5.0",
       "_view_name": "ProgressView",
       "bar_style": "success",
       "description": "",
       "description_tooltip": null,
       "layout": "IPY_MODEL_7d074a5222fc4311be98aebbfb0498da",
       "max": 1.0,
       "min": 0.0,
       "orientation": "horizontal",
       "style": "IPY_MODEL_0b444c7dbe784eecbd677fc928263d6b",
       "value": 1.0
      }
     },
     "890d04656def475bbecba04bd08e510a": {
      "model_module": "@jupyter-widgets/controls",
      "model_module_version": "1.5.0",
      "model_name": "ProgressStyleModel",
      "state": {
       "_model_module": "@jupyter-widgets/controls",
       "_model_module_version": "1.5.0",
       "_model_name": "ProgressStyleModel",
       "_view_count": null,
       "_view_module": "@jupyter-widgets/base",
       "_view_module_version": "1.2.0",
       "_view_name": "StyleView",
       "bar_color": null,
       "description_width": ""
      }
     },
     "911b8373a1d14ad88f1fd67330800dc5": {
      "model_module": "@jupyter-widgets/controls",
      "model_module_version": "1.5.0",
      "model_name": "HTMLModel",
      "state": {
       "_dom_classes": [],
       "_model_module": "@jupyter-widgets/controls",
       "_model_module_version": "1.5.0",
       "_model_name": "HTMLModel",
       "_view_count": null,
       "_view_module": "@jupyter-widgets/controls",
       "_view_module_version": "1.5.0",
       "_view_name": "HTMLView",
       "description": "",
       "description_tooltip": null,
       "layout": "IPY_MODEL_c69d7ce253f44916b7e6624430e811bf",
       "placeholder": "​",
       "style": "IPY_MODEL_6658647e3cb04aa1babef0254aab3f59",
       "value": " 11138/11138 [02:57&lt;00:00, 66.07it/s]"
      }
     },
     "9d0f882f7bec42d4917e403a75117643": {
      "model_module": "@jupyter-widgets/base",
      "model_module_version": "1.2.0",
      "model_name": "LayoutModel",
      "state": {
       "_model_module": "@jupyter-widgets/base",
       "_model_module_version": "1.2.0",
       "_model_name": "LayoutModel",
       "_view_count": null,
       "_view_module": "@jupyter-widgets/base",
       "_view_module_version": "1.2.0",
       "_view_name": "LayoutView",
       "align_content": null,
       "align_items": null,
       "align_self": null,
       "border": null,
       "bottom": null,
       "display": null,
       "flex": null,
       "flex_flow": null,
       "grid_area": null,
       "grid_auto_columns": null,
       "grid_auto_flow": null,
       "grid_auto_rows": null,
       "grid_column": null,
       "grid_gap": null,
       "grid_row": null,
       "grid_template_areas": null,
       "grid_template_columns": null,
       "grid_template_rows": null,
       "height": null,
       "justify_content": null,
       "justify_items": null,
       "left": null,
       "margin": null,
       "max_height": null,
       "max_width": null,
       "min_height": null,
       "min_width": null,
       "object_fit": null,
       "object_position": null,
       "order": null,
       "overflow": null,
       "overflow_x": null,
       "overflow_y": null,
       "padding": null,
       "right": null,
       "top": null,
       "visibility": null,
       "width": null
      }
     },
     "c0230a11b1264c10914d43e92172665c": {
      "model_module": "@jupyter-widgets/controls",
      "model_module_version": "1.5.0",
      "model_name": "DescriptionStyleModel",
      "state": {
       "_model_module": "@jupyter-widgets/controls",
       "_model_module_version": "1.5.0",
       "_model_name": "DescriptionStyleModel",
       "_view_count": null,
       "_view_module": "@jupyter-widgets/base",
       "_view_module_version": "1.2.0",
       "_view_name": "StyleView",
       "description_width": ""
      }
     },
     "c56686498f6844f69eefb0af5db266c3": {
      "model_module": "@jupyter-widgets/base",
      "model_module_version": "1.2.0",
      "model_name": "LayoutModel",
      "state": {
       "_model_module": "@jupyter-widgets/base",
       "_model_module_version": "1.2.0",
       "_model_name": "LayoutModel",
       "_view_count": null,
       "_view_module": "@jupyter-widgets/base",
       "_view_module_version": "1.2.0",
       "_view_name": "LayoutView",
       "align_content": null,
       "align_items": null,
       "align_self": null,
       "border": null,
       "bottom": null,
       "display": null,
       "flex": null,
       "flex_flow": null,
       "grid_area": null,
       "grid_auto_columns": null,
       "grid_auto_flow": null,
       "grid_auto_rows": null,
       "grid_column": null,
       "grid_gap": null,
       "grid_row": null,
       "grid_template_areas": null,
       "grid_template_columns": null,
       "grid_template_rows": null,
       "height": null,
       "justify_content": null,
       "justify_items": null,
       "left": null,
       "margin": null,
       "max_height": null,
       "max_width": null,
       "min_height": null,
       "min_width": null,
       "object_fit": null,
       "object_position": null,
       "order": null,
       "overflow": null,
       "overflow_x": null,
       "overflow_y": null,
       "padding": null,
       "right": null,
       "top": null,
       "visibility": null,
       "width": null
      }
     },
     "c69d7ce253f44916b7e6624430e811bf": {
      "model_module": "@jupyter-widgets/base",
      "model_module_version": "1.2.0",
      "model_name": "LayoutModel",
      "state": {
       "_model_module": "@jupyter-widgets/base",
       "_model_module_version": "1.2.0",
       "_model_name": "LayoutModel",
       "_view_count": null,
       "_view_module": "@jupyter-widgets/base",
       "_view_module_version": "1.2.0",
       "_view_name": "LayoutView",
       "align_content": null,
       "align_items": null,
       "align_self": null,
       "border": null,
       "bottom": null,
       "display": null,
       "flex": null,
       "flex_flow": null,
       "grid_area": null,
       "grid_auto_columns": null,
       "grid_auto_flow": null,
       "grid_auto_rows": null,
       "grid_column": null,
       "grid_gap": null,
       "grid_row": null,
       "grid_template_areas": null,
       "grid_template_columns": null,
       "grid_template_rows": null,
       "height": null,
       "justify_content": null,
       "justify_items": null,
       "left": null,
       "margin": null,
       "max_height": null,
       "max_width": null,
       "min_height": null,
       "min_width": null,
       "object_fit": null,
       "object_position": null,
       "order": null,
       "overflow": null,
       "overflow_x": null,
       "overflow_y": null,
       "padding": null,
       "right": null,
       "top": null,
       "visibility": null,
       "width": null
      }
     },
     "d6e97d51e00648c2beb5f9731a394b25": {
      "model_module": "@jupyter-widgets/controls",
      "model_module_version": "1.5.0",
      "model_name": "DescriptionStyleModel",
      "state": {
       "_model_module": "@jupyter-widgets/controls",
       "_model_module_version": "1.5.0",
       "_model_name": "DescriptionStyleModel",
       "_view_count": null,
       "_view_module": "@jupyter-widgets/base",
       "_view_module_version": "1.2.0",
       "_view_name": "StyleView",
       "description_width": ""
      }
     },
     "f7b93335db284a3e9c547ee17fcef09d": {
      "model_module": "@jupyter-widgets/base",
      "model_module_version": "1.2.0",
      "model_name": "LayoutModel",
      "state": {
       "_model_module": "@jupyter-widgets/base",
       "_model_module_version": "1.2.0",
       "_model_name": "LayoutModel",
       "_view_count": null,
       "_view_module": "@jupyter-widgets/base",
       "_view_module_version": "1.2.0",
       "_view_name": "LayoutView",
       "align_content": null,
       "align_items": null,
       "align_self": null,
       "border": null,
       "bottom": null,
       "display": null,
       "flex": null,
       "flex_flow": null,
       "grid_area": null,
       "grid_auto_columns": null,
       "grid_auto_flow": null,
       "grid_auto_rows": null,
       "grid_column": null,
       "grid_gap": null,
       "grid_row": null,
       "grid_template_areas": null,
       "grid_template_columns": null,
       "grid_template_rows": null,
       "height": null,
       "justify_content": null,
       "justify_items": null,
       "left": null,
       "margin": null,
       "max_height": null,
       "max_width": null,
       "min_height": null,
       "min_width": null,
       "object_fit": null,
       "object_position": null,
       "order": null,
       "overflow": null,
       "overflow_x": null,
       "overflow_y": null,
       "padding": null,
       "right": null,
       "top": null,
       "visibility": null,
       "width": null
      }
     }
    },
    "version_major": 2,
    "version_minor": 0
   }
  }
 },
 "nbformat": 4,
 "nbformat_minor": 5
}
